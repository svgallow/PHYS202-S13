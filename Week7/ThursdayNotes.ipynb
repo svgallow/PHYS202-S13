{
 "metadata": {
  "name": "ThursdayNotes"
 },
 "nbformat": 3,
 "nbformat_minor": 0,
 "worksheets": [
  {
   "cells": [
    {
     "cell_type": "markdown",
     "metadata": {},
     "source": [
      "Excercise 1\n",
      "-\n",
      "Use Eulers method to solve ODE dy/dx = x + 2y"
     ]
    },
    {
     "cell_type": "code",
     "collapsed": false,
     "input": [
      "import math\n",
      "import numpy as np\n",
      "# First Order ODE (y' = f(x, y)) Solver using Euler method\n",
      "# xa: initial value of independent variable\n",
      "# xb: final value of independent variable\n",
      "# ya: initial value of dependent variable\n",
      "# n : number of steps (higher the better)\n",
      "# Returns value of y at xb. \n",
      "def Euler(f, xa, xb, ya, n):\n",
      "      h = (xb - xa) / float(n)\n",
      "      x = xa\n",
      "      y = ya\n",
      "      z = np.zeros(n)\n",
      "      for i in range(n):\n",
      "          y += h * f(x, y)\n",
      "          x += h\n",
      "          z[i] = y\n",
      "      return y,z"
     ],
     "language": "python",
     "metadata": {},
     "outputs": [],
     "prompt_number": 58
    },
    {
     "cell_type": "code",
     "collapsed": false,
     "input": [
      "y,z = Euler(lambda x,y: x +2*y, 0, 1.25, 0, 5)"
     ],
     "language": "python",
     "metadata": {},
     "outputs": [],
     "prompt_number": 67
    },
    {
     "cell_type": "code",
     "collapsed": false,
     "input": [
      "y1,z1 = Euler(lambda x,y: x +2*y, 0, 1, 0, 50)\n",
      "z1"
     ],
     "language": "python",
     "metadata": {},
     "outputs": [
      {
       "output_type": "pyout",
       "prompt_number": 68,
       "text": [
        "array([  0.00000000e+00,   4.00000000e-04,   1.21600000e-03,\n",
        "         2.46464000e-03,   4.16322560e-03,   6.32975462e-03,\n",
        "         8.98294481e-03,   1.21422626e-02,   1.58279531e-02,\n",
        "         2.00610712e-02,   2.48635141e-02,   3.02580546e-02,\n",
        "         3.62683768e-02,   4.29191119e-02,   5.02358764e-02,\n",
        "         5.82453114e-02,   6.69751239e-02,   7.64541288e-02,\n",
        "         8.67122940e-02,   9.77807858e-02,   1.09692017e-01,\n",
        "         1.22479698e-01,   1.36178886e-01,   1.50826041e-01,\n",
        "         1.66459083e-01,   1.83117446e-01,   2.00842144e-01,\n",
        "         2.19675830e-01,   2.39662863e-01,   2.60849378e-01,\n",
        "         2.83283353e-01,   3.07014687e-01,   3.32095274e-01,\n",
        "         3.58579085e-01,   3.86522249e-01,   4.15983138e-01,\n",
        "         4.47022464e-01,   4.79703363e-01,   5.14091497e-01,\n",
        "         5.50255157e-01,   5.88265363e-01,   6.28195978e-01,\n",
        "         6.70123817e-01,   7.14128770e-01,   7.60293920e-01,\n",
        "         8.08705677e-01,   8.59453904e-01,   9.12632060e-01,\n",
        "         9.68337343e-01,   1.02667084e+00])"
       ]
      }
     ],
     "prompt_number": 68
    },
    {
     "cell_type": "code",
     "collapsed": false,
     "input": [
      "def f(x):\n",
      "    return 0.25*exp(2*x)-0.5*x- 0.25\n",
      "x = arange(0.,1.25, .25)\n",
      "x1 = arange(0.,1.0,0.02)\n",
      "plot(x,f(x), linestyle = \":\", label = \"Exact Solution\")\n",
      "plot(x,z, label = \"4 Steps\")\n",
      "plot(x1,z1, label = \"50 Steps\")\n",
      "legend(loc = \"upper left\")"
     ],
     "language": "python",
     "metadata": {},
     "outputs": [
      {
       "output_type": "pyout",
       "prompt_number": 75,
       "text": [
        "<matplotlib.legend.Legend at 0x4201cd0>"
       ]
      },
      {
       "output_type": "display_data",
       "png": "[encoded data removed]"
      }
     ],
     "prompt_number": 75
    },
    {
     "cell_type": "code",
     "collapsed": false,
     "input": [],
     "language": "python",
     "metadata": {},
     "outputs": [],
     "prompt_number": 61
    },
    {
     "cell_type": "code",
     "collapsed": false,
     "input": [],
     "language": "python",
     "metadata": {},
     "outputs": []
    }
   ],
   "metadata": {}
  }
 ]
}