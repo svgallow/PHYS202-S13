{
 "metadata": {
  "name": "CheatSheet"
 },
 "nbformat": 3,
 "nbformat_minor": 0,
 "worksheets": [
  {
   "cells": [
    {
     "cell_type": "code",
     "collapsed": false,
     "input": [
      "raw_input() #input manual data"
     ],
     "language": "python",
     "metadata": {},
     "outputs": []
    },
    {
     "cell_type": "code",
     "collapsed": false,
     "input": [
      "list.append(\"string\") #add string to list"
     ],
     "language": "python",
     "metadata": {},
     "outputs": []
    },
    {
     "cell_type": "code",
     "collapsed": false,
     "input": [
      "#dictionaries\n",
      "dctn= {\"a\": 10,\"b\": 20, \"c\": 30}\n",
      "\n",
      "print dctn[\"a\"] #prints 10"
     ],
     "language": "python",
     "metadata": {},
     "outputs": [
      {
       "output_type": "stream",
       "stream": "stdout",
       "text": [
        "10\n"
       ]
      }
     ],
     "prompt_number": 3
    },
    {
     "cell_type": "code",
     "collapsed": false,
     "input": [
      "choices = ['a','b','c']\n",
      "\n",
      "print \"your choices are\"\n",
      "for index, item in enumerate(choices):\n",
      "    print index+1, item"
     ],
     "language": "python",
     "metadata": {},
     "outputs": [
      {
       "output_type": "stream",
       "stream": "stdout",
       "text": [
        "your choices are\n",
        "1 a\n",
        "2 b\n",
        "3 c\n"
       ]
      }
     ],
     "prompt_number": 6
    },
    {
     "cell_type": "code",
     "collapsed": false,
     "input": [
      "#for/else\n",
      "fruits = ['1','2','3']\n",
      "\n",
      "print \"you have...\"\n",
      "for f in fruits:\n",
      "    if f == '3':\n",
      "        print \"Fuck that\"\n",
      "        break\n",
      "    print 'a', f\n",
      "else:\n",
      "    print 'A fne selection of fruits'"
     ],
     "language": "python",
     "metadata": {},
     "outputs": [
      {
       "output_type": "stream",
       "stream": "stdout",
       "text": [
        "you have...\n",
        "a 1\n",
        "a 2\n",
        "Fuck that\n"
       ]
      }
     ],
     "prompt_number": 8
    },
    {
     "cell_type": "code",
     "collapsed": false,
     "input": [
      "lambda x: x % 3 ==0\n",
      "#Is the same as\n",
      "\n",
      "def by_three(x):\n",
      "    return x % 3 ==0\n",
      "#only we dont need to actually give f'n a name; it does its work and returns a value without one.\n",
      "#thats why the f'n the lambda creats is an anonymous f'n"
     ],
     "language": "python",
     "metadata": {},
     "outputs": []
    },
    {
     "cell_type": "code",
     "collapsed": false,
     "input": [
      "my_list = range(16)\n",
      "print filter(lambda x: x % 3 ==0, my_list)"
     ],
     "language": "python",
     "metadata": {},
     "outputs": [
      {
       "output_type": "stream",
       "stream": "stdout",
       "text": [
        "[0, 3, 6, 9, 12, 15]\n"
       ]
      }
     ],
     "prompt_number": 9
    },
    {
     "cell_type": "code",
     "collapsed": false,
     "input": [
      "#Use int, float and str to convert numbers to strings and vice versa:\n",
      "integertemp = int(\"37\")\n",
      "floattemp = float(\"98.6\")\n",
      "stringtemp = str(98.6)"
     ],
     "language": "python",
     "metadata": {},
     "outputs": [],
     "prompt_number": 1
    },
    {
     "cell_type": "code",
     "collapsed": false,
     "input": [
      "#Use while to define code to be executed while a specified condition is true:\n",
      "# display the numbers from 1 to 10\n",
      "x = 1\n",
      "while x <= 10:\n",
      "    print x\n",
      "    x = x + 1\n",
      "#Use for to loop through a range of numbers or a list:\n",
      "# display the numbers from 1 to 10\n",
      "for x in range(1, 11):\n",
      "    print x"
     ],
     "language": "python",
     "metadata": {},
     "outputs": [
      {
       "output_type": "stream",
       "stream": "stdout",
       "text": [
        "1\n",
        "2\n",
        "3\n",
        "4\n",
        "5\n",
        "6\n",
        "7\n",
        "8\n",
        "9\n",
        "10\n",
        "1\n",
        "2\n",
        "3\n",
        "4\n",
        "5\n",
        "6\n",
        "7\n",
        "8\n",
        "9\n",
        "10\n"
       ]
      }
     ],
     "prompt_number": 2
    },
    {
     "cell_type": "code",
     "collapsed": false,
     "input": [
      "#A list is an ordered collection of values. Lists are enclosed in brackets ([]):\n",
      "patientids = [42446, 42113, 42007]\n",
      "segmentlist = [\"MSH\", \"EVN\", \"PID\", \"NK1\", \"PV1\"]"
     ],
     "language": "python",
     "metadata": {},
     "outputs": []
    },
    {
     "cell_type": "code",
     "collapsed": false,
     "input": [
      "#You can assign a list to a variable or to multiple variables at once:\n",
      "patientinfo = ['JohnDoe', 42446, 'Admitted', 1000]\n",
      "(patientname, patientid, patientstatus) = ['JohnDoe', 42446, 'Admitted']\n",
      "#You can also assign a single element of a list to a variable:\n",
      "patientid = patientinfo[1] # assigns the second element of patientinfo to patientid"
     ],
     "language": "python",
     "metadata": {},
     "outputs": [],
     "prompt_number": 3
    },
    {
     "cell_type": "code",
     "collapsed": false,
     "input": [
      "#append\n",
      "#Add a value to the end of a list\n",
      "x = [1, 2, 3]\n",
      "x.append(4) # x is now [1, 2, 3, 4]"
     ],
     "language": "python",
     "metadata": {},
     "outputs": [],
     "prompt_number": 4
    },
    {
     "cell_type": "code",
     "collapsed": false,
     "input": [
      "#del \n",
      "#Delete a value from a list\n",
      "x = [1, 2, 3, 4]\n",
      "del x[1] # x is now [1, 3, 4]"
     ],
     "language": "python",
     "metadata": {},
     "outputs": [],
     "prompt_number": 5
    },
    {
     "cell_type": "code",
     "collapsed": false,
     "input": [
      "#index \n",
      "#Return the index of an item in a list\n",
      "x = [1, 2, 3, 5, 2, 4]\n",
      "y = x.index(3) # y is now 2"
     ],
     "language": "python",
     "metadata": {},
     "outputs": [],
     "prompt_number": 7
    },
    {
     "cell_type": "code",
     "collapsed": false,
     "input": [
      "#pop \n",
      "#Remove an item from a list and return it\n",
      "x = [1, 2, 3, 4]\n",
      "y = x.pop(1) # x is now [1, 3, 4]; y is now 2\n",
      "z = x.pop() # x is now [1, 3]; z is now 4"
     ],
     "language": "python",
     "metadata": {},
     "outputs": []
    },
    {
     "cell_type": "code",
     "collapsed": false,
     "input": [
      "#A dictionary is a collection of key-value pairs. In a dictionary definition, a key and its value are separated by a colon:\n",
      "pidlist = {\"Smith,Mary\":\"P12345\", \"Doe,John\":\"P12346\", \"Jones,Charlie\":\"P12347\"}"
     ],
     "language": "python",
     "metadata": {},
     "outputs": []
    },
    {
     "cell_type": "code",
     "collapsed": false,
     "input": [
      "#Accessing Dictionaries\n",
      "#To access a value, supply its key:\n",
      "patientid = pidlist[\"Doe,John\"]\n",
      "#To add a new element to a dictionary, assign a value to a new key:\n",
      "pidlist[\"Baxter,Ted\"] = \"P12350\"\n",
      "#To update an element of a dictionary, assign a new value to its key:\n",
      "# update the patient ID for Charlie Jones\n",
      "pidlist[\"Jones,Charlie\"] = \"P55555\"\n",
      "#To delete an element from a dictionary, use del:\n",
      "del(pidlist[\"Doe,John\"])\n",
      "#Use has_key to check whether a key is defined in a dictionary:\n",
      "if not pidlist.has_key[\"Roe,Jane\"]:\n",
      "print \"Jane Roe's patient ID is not known\""
     ],
     "language": "python",
     "metadata": {},
     "outputs": []
    },
    {
     "cell_type": "code",
     "collapsed": false,
     "input": [
      "#Dictionaries and Loops\n",
      "#To use a dictionary in a loop, use the keys function. This processes each element of the dictionary in turn:\n",
      "for name in pidlist.keys():\n",
      "patientid = pidlist[name]\n",
      "print name, \"has Patient ID\", patientID"
     ],
     "language": "python",
     "metadata": {},
     "outputs": []
    }
   ],
   "metadata": {}
  }
 ]
}