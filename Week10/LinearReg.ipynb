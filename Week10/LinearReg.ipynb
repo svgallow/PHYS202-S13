{
 "metadata": {
  "name": "LinearReg"
 },
 "nbformat": 3,
 "nbformat_minor": 0,
 "worksheets": [
  {
   "cells": [
    {
     "cell_type": "markdown",
     "metadata": {},
     "source": [
      "Exercise 1\n",
      "-"
     ]
    },
    {
     "cell_type": "code",
     "collapsed": false,
     "input": [
      "DataIn = loadtxt('radioactivedecay.dat', unpack=True,usecols=[0,1])\n",
      "print DataIn"
     ],
     "language": "python",
     "metadata": {},
     "outputs": [
      {
       "output_type": "stream",
       "stream": "stdout",
       "text": [
        "[[  0.     1.     2.     3.     4.     5.     6.     7.     8.     9.    10.\n",
        "   11.    12.    13.    14.    15.  ]\n",
        " [ 10.48   7.54   5.49   4.02   2.74   2.02   1.5    1.09   0.68   0.57\n",
        "    0.37   0.31   0.19   0.15   0.13   0.11]]\n"
       ]
      }
     ],
     "prompt_number": 59
    },
    {
     "cell_type": "markdown",
     "metadata": {},
     "source": [
      "a)\n",
      "-"
     ]
    },
    {
     "cell_type": "code",
     "collapsed": false,
     "input": [
      "t,N,=loadtxt('radioactivedecay.dat', unpack=True)\n",
      "plot(t,N, 'b*')"
     ],
     "language": "python",
     "metadata": {},
     "outputs": [
      {
       "output_type": "pyout",
       "prompt_number": 60,
       "text": [
        "[<matplotlib.lines.Line2D at 0x4454890>]"
       ]
      },
      {
       "output_type": "display_data",
       "png": "[encoded data removed]"
      }
     ],
     "prompt_number": 60
    },
    {
     "cell_type": "markdown",
     "metadata": {},
     "source": [
      "b)\n",
      "-"
     ]
    },
    {
     "cell_type": "code",
     "collapsed": false,
     "input": [
      "plot(t, log(N), \"b*\")"
     ],
     "language": "python",
     "metadata": {},
     "outputs": [
      {
       "output_type": "pyout",
       "prompt_number": 61,
       "text": [
        "[<matplotlib.lines.Line2D at 0x4716ad0>]"
       ]
      },
      {
       "output_type": "display_data",
       "png": "[encoded data removed]"
      }
     ],
     "prompt_number": 61
    },
    {
     "cell_type": "markdown",
     "metadata": {},
     "source": [
      "c)\n",
      "-"
     ]
    },
    {
     "cell_type": "code",
     "collapsed": false,
     "input": [
      "from CurveFitting import *\n",
      "import numpy as np\n",
      "import math\n",
      "N = log(DataIn[1])\n",
      "t = DataIn[0]\n",
      "print N"
     ],
     "language": "python",
     "metadata": {},
     "outputs": [
      {
       "output_type": "stream",
       "stream": "stdout",
       "text": [
        "[ 2.34946868  2.02022218  1.70292826  1.3912819   1.00795792  0.70309751\n",
        "  0.40546511  0.0861777  -0.38566248 -0.56211892 -0.99425227 -1.17118298\n",
        " -1.66073121 -1.89711998 -2.04022083 -2.20727491]\n"
       ]
      }
     ],
     "prompt_number": 62
    },
    {
     "cell_type": "code",
     "collapsed": false,
     "input": [
      "m = LinearLeastSquaresFit(t,N)[0]\n",
      "b = LinearLeastSquaresFit(t,N)[1]\n",
      "slerr = LinearLeastSquaresFit(t,N)[2]\n",
      "interr = LinearLeastSquaresFit(t,N)[3]\n",
      "print m\n",
      "print b\n",
      "print slerr\n",
      "print interr"
     ],
     "language": "python",
     "metadata": {},
     "outputs": [
      {
       "output_type": "stream",
       "stream": "stdout",
       "text": [
        "-0.316648366384\n",
        "2.29661497713\n",
        "0.00556084684482\n",
        "0.0489544059962\n"
       ]
      }
     ],
     "prompt_number": 63
    },
    {
     "cell_type": "code",
     "collapsed": false,
     "input": [
      "plot(t,N,'m*', label='Radioactive Decay')\n",
      "plot(t,m*t+b, color='g',label= 'Fit')\n",
      "legend(loc=9)\n",
      "show()"
     ],
     "language": "python",
     "metadata": {},
     "outputs": [
      {
       "output_type": "display_data",
       "png": "[encoded data removed]"
      }
     ],
     "prompt_number": 64
    },
    {
     "cell_type": "markdown",
     "metadata": {},
     "source": [
      "Generic Curve Fitting\n",
      "-\n",
      "curve fitting ex. 1"
     ]
    },
    {
     "cell_type": "code",
     "collapsed": false,
     "input": [
      "from scipy.optimize import curve_fit\n",
      "#importing curve fitting from scipy"
     ],
     "language": "python",
     "metadata": {},
     "outputs": [],
     "prompt_number": 65
    },
    {
     "cell_type": "code",
     "collapsed": false,
     "input": [
      "#Define fit f'n\n",
      "def func(x,a,b,c):\n",
      "    return (a*x**2+b*x+c)"
     ],
     "language": "python",
     "metadata": {},
     "outputs": [],
     "prompt_number": 66
    },
    {
     "cell_type": "code",
     "collapsed": false,
     "input": [
      "#Define some data + uncertainties\n",
      "x = array([0.,1.,2.,3.,4.,5.])\n",
      "y = array([-1.78,4.09,8.85,17.9,26.1,35.2])\n",
      "yerr = array([0.46,.658,.528,1.34,1.09,.786])"
     ],
     "language": "python",
     "metadata": {},
     "outputs": [],
     "prompt_number": 67
    },
    {
     "cell_type": "code",
     "collapsed": false,
     "input": [
      "#Make initial guess param\n",
      "p0 = [1.0, 3.0, -2.0]"
     ],
     "language": "python",
     "metadata": {},
     "outputs": [],
     "prompt_number": 68
    },
    {
     "cell_type": "code",
     "collapsed": false,
     "input": [
      "#call curve fitter and return optimized parameters\n",
      "popt,pcov=curve_fit(func,x,y,p0,yerr)\n",
      "print pcov"
     ],
     "language": "python",
     "metadata": {},
     "outputs": [
      {
       "output_type": "stream",
       "stream": "stdout",
       "text": [
        "[[ 0.01395531 -0.0647774   0.03004709]\n",
        " [-0.0647774   0.33429278 -0.1951975 ]\n",
        " [ 0.03004709 -0.1951975   0.25099317]]\n"
       ]
      }
     ],
     "prompt_number": 69
    },
    {
     "cell_type": "code",
     "collapsed": false,
     "input": [
      "#compute parameter uncertainties from the covariance matrix\n",
      "punc = zeros(len(popt))\n",
      "for i in arange(0,len(popt)):\n",
      "    punc[i] = sqrt(pcov[i,i])\n",
      "    \n",
      "#print result\n",
      "print \"optimal parameters =\", popt\n",
      "print \"uncertainties of parameters =\", punc"
     ],
     "language": "python",
     "metadata": {},
     "outputs": [
      {
       "output_type": "stream",
       "stream": "stdout",
       "text": [
        "optimal parameters = [ 0.61500361  4.33082898 -1.66737444]\n",
        "uncertainties of parameters = [ 0.11813261  0.57818057  0.50099218]\n"
       ]
      }
     ],
     "prompt_number": 70
    },
    {
     "cell_type": "code",
     "collapsed": false,
     "input": [
      "errorbar(x,y,yerr,fmt='r*')\n",
      "fitresult = func(x,popt[0],popt[1],popt[2])\n",
      "plot(x,fitresult,'b-')\n",
      "show()"
     ],
     "language": "python",
     "metadata": {},
     "outputs": [
      {
       "output_type": "display_data",
       "png": "[encoded data removed]"
      }
     ],
     "prompt_number": 71
    },
    {
     "cell_type": "markdown",
     "metadata": {},
     "source": [
      "Example 2\n",
      "-"
     ]
    },
    {
     "cell_type": "code",
     "collapsed": false,
     "input": [
      "wave1 = load('waveform_1.npy')\n",
      "t = np.arange(len(wave1))"
     ],
     "language": "python",
     "metadata": {},
     "outputs": [],
     "prompt_number": 77
    },
    {
     "cell_type": "code",
     "collapsed": false,
     "input": [
      "plot(t,wave1)\n",
      "xlabel(\"Time (ns)\")\n",
      "ylabel(\"Intensity (bins)\")\n",
      "show()"
     ],
     "language": "python",
     "metadata": {},
     "outputs": [
      {
       "ename": "TypeError",
       "evalue": "'str' object is not callable",
       "output_type": "pyerr",
       "traceback": [
        "\u001b[1;31m---------------------------------------------------------------------------\u001b[0m\n\u001b[1;31mTypeError\u001b[0m                                 Traceback (most recent call last)",
        "\u001b[1;32m<ipython-input-88-9634bac01f6d>\u001b[0m in \u001b[0;36m<module>\u001b[1;34m()\u001b[0m\n\u001b[0;32m      1\u001b[0m \u001b[0mplot\u001b[0m\u001b[1;33m(\u001b[0m\u001b[0mt\u001b[0m\u001b[1;33m,\u001b[0m\u001b[0mwave1\u001b[0m\u001b[1;33m)\u001b[0m\u001b[1;33m\u001b[0m\u001b[0m\n\u001b[1;32m----> 2\u001b[1;33m \u001b[0mxlabel\u001b[0m\u001b[1;33m(\u001b[0m\u001b[1;34m\"Time (ns)\"\u001b[0m\u001b[1;33m)\u001b[0m\u001b[1;33m\u001b[0m\u001b[0m\n\u001b[0m\u001b[0;32m      3\u001b[0m \u001b[0mylabel\u001b[0m\u001b[1;33m(\u001b[0m\u001b[1;34m\"Intensity (bins)\"\u001b[0m\u001b[1;33m)\u001b[0m\u001b[1;33m\u001b[0m\u001b[0m\n\u001b[0;32m      4\u001b[0m \u001b[0mshow\u001b[0m\u001b[1;33m(\u001b[0m\u001b[1;33m)\u001b[0m\u001b[1;33m\u001b[0m\u001b[0m\n",
        "\u001b[1;31mTypeError\u001b[0m: 'str' object is not callable"
       ]
      },
      {
       "output_type": "display_data",
       "png": "[encoded data removed]"
      }
     ],
     "prompt_number": 88
    },
    {
     "cell_type": "code",
     "collapsed": false,
     "input": [
      "def model(t,B,A,mu,sigma):\n",
      "    return B+A*exp(-((t-mu)/sigma)**2)"
     ],
     "language": "python",
     "metadata": {},
     "outputs": [],
     "prompt_number": 89
    },
    {
     "cell_type": "code",
     "collapsed": false,
     "input": [
      "x0 = array([3.,30.,15.,1.])\n",
      "popt,pcov = curve_fit(model,t,wave1,x0)\n",
      "plot(t,wave1, label='Data')\n",
      "plot(t,model(t,popt[0],popt[1],popt[2],popt[3]),label='fit', linewidth=2)\n",
      "legend(loc=9)"
     ],
     "language": "python",
     "metadata": {},
     "outputs": [
      {
       "output_type": "pyout",
       "prompt_number": 90,
       "text": [
        "<matplotlib.legend.Legend at 0x427c190>"
       ]
      },
      {
       "output_type": "display_data",
       "png": "[encoded data removed]"
      }
     ],
     "prompt_number": 90
    },
    {
     "cell_type": "markdown",
     "metadata": {},
     "source": [
      "Excercise 2\n",
      "-"
     ]
    },
    {
     "cell_type": "code",
     "collapsed": false,
     "input": [
      "wave2 = load('waveform_2.npy')\n",
      "t = np.arange(len(wave2))"
     ],
     "language": "python",
     "metadata": {},
     "outputs": [],
     "prompt_number": 91
    },
    {
     "cell_type": "code",
     "collapsed": false,
     "input": [
      "plot(t,wave2)\n",
      "xlabel('Time(ns)')\n",
      "ylabel(\"Intensity (bins)\")\n",
      "show()"
     ],
     "language": "python",
     "metadata": {},
     "outputs": [
      {
       "ename": "TypeError",
       "evalue": "'str' object is not callable",
       "output_type": "pyerr",
       "traceback": [
        "\u001b[1;31m---------------------------------------------------------------------------\u001b[0m\n\u001b[1;31mTypeError\u001b[0m                                 Traceback (most recent call last)",
        "\u001b[1;32m<ipython-input-92-b0fe9657ae4e>\u001b[0m in \u001b[0;36m<module>\u001b[1;34m()\u001b[0m\n\u001b[0;32m      1\u001b[0m \u001b[0mplot\u001b[0m\u001b[1;33m(\u001b[0m\u001b[0mt\u001b[0m\u001b[1;33m,\u001b[0m\u001b[0mwave2\u001b[0m\u001b[1;33m)\u001b[0m\u001b[1;33m\u001b[0m\u001b[0m\n\u001b[1;32m----> 2\u001b[1;33m \u001b[0mxlabel\u001b[0m\u001b[1;33m(\u001b[0m\u001b[1;34m'Time(ns)'\u001b[0m\u001b[1;33m)\u001b[0m\u001b[1;33m\u001b[0m\u001b[0m\n\u001b[0m\u001b[0;32m      3\u001b[0m \u001b[0mylabel\u001b[0m\u001b[1;33m(\u001b[0m\u001b[1;34m\"Intensity (bins)\"\u001b[0m\u001b[1;33m)\u001b[0m\u001b[1;33m\u001b[0m\u001b[0m\n\u001b[0;32m      4\u001b[0m \u001b[0mshow\u001b[0m\u001b[1;33m(\u001b[0m\u001b[1;33m)\u001b[0m\u001b[1;33m\u001b[0m\u001b[0m\n",
        "\u001b[1;31mTypeError\u001b[0m: 'str' object is not callable"
       ]
      },
      {
       "output_type": "display_data",
       "png": "[encoded data removed]"
      }
     ],
     "prompt_number": 92
    },
    {
     "cell_type": "code",
     "collapsed": false,
     "input": [
      "def model(t1,t2,t3,B,A1,A2,A3,mu1,mu2,mu3,sig1,sig2,sig3):\n",
      "    return B+A1*exp(-((t1-mu1)/sig1)**2)+A2*exp(-((t2-mu2)/sig2)**2)+A3*exp(-((t3-mu3)/sig3)**2)"
     ],
     "language": "python",
     "metadata": {},
     "outputs": [],
     "prompt_number": 93
    },
    {
     "cell_type": "code",
     "collapsed": false,
     "input": [
      "x0=array([10.,20.,24.,38.,42.,46.,55.,59.,60.,69.,72.,78.])\n",
      "popt,pcov=curve_fit(model,t,wave2,x0)\n",
      "punc = zeros(len(popt))\n",
      "#for i in arange(0,len(popt)):\n",
      "#    punc[i] = sqrt(pcov[i,i])\n",
      "\n",
      "print \"Optimal Param. =\", popt\n",
      "print \"Uncertainties of Param. =\", punc"
     ],
     "language": "python",
     "metadata": {},
     "outputs": [
      {
       "output_type": "stream",
       "stream": "stdout",
       "text": [
        "Optimal Param. = [-39.13696251 -14.96479074   3.42237005  21.51683711  22.76634693\n",
        "  24.85107607  16.81034468  97.46383575  94.96460504   2.75870515\n",
        "  -0.61211753   9.81865805]\n",
        "Uncertainties of Param. = [ 0.  0.  0.  0.  0.  0.  0.  0.  0.  0.  0.  0.]\n"
       ]
      }
     ],
     "prompt_number": 102
    },
    {
     "cell_type": "markdown",
     "metadata": {},
     "source": [
      "Without hashtags, I get an error of \"TypeError: 'float' object is not subscriptable\"\n",
      "-\n",
      "So I hashed out the problem lines"
     ]
    },
    {
     "cell_type": "code",
     "collapsed": false,
     "input": [],
     "language": "python",
     "metadata": {},
     "outputs": []
    }
   ],
   "metadata": {}
  }
 ]
}