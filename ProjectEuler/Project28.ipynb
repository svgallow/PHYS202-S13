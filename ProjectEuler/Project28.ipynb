{
 "metadata": {
  "name": "Project28"
 },
 "nbformat": 3,
 "nbformat_minor": 0,
 "worksheets": [
  {
   "cells": [
    {
     "cell_type": "markdown",
     "metadata": {},
     "source": [
      "Number spiral diagonals\n",
      "=\n",
      "Problem 28\n",
      "-\n",
      "Starting with the number 1 and moving to the right in a clockwise direction a 5 by 5 spiral is formed as follows:\n",
      "\n",
      "21 22 23 24 25\n",
      "\n",
      "20   7   8   9 10\n",
      "\n",
      "19  6  1  2 11\n",
      "\n",
      "18  5  4  3 12\n",
      "\n",
      "17 16 15 14 13\n",
      "\n",
      "It can be verified that the sum of the numbers on the diagonals is 101.\n",
      "\n",
      "What is the sum of the numbers on the diagonals in a 1001 by 1001 spiral formed in the same way?"
     ]
    },
    {
     "cell_type": "code",
     "collapsed": false,
     "input": [
      "def sum_diagonals_of_spiral(n):\n",
      "    n = 1\n",
      "    step = 2\n",
      "    total = 0\n",
      "    last = 0\n",
      "    while n <= n**2:\n",
      "        total += n\n",
      "        n += step\n",
      "        last += 1\n",
      "        if last == 4:\n",
      "            step += 2\n",
      "            last = 0\n",
      "    return total\n",
      "\n",
      "print sum_diagonals_of_spiral(1001)"
     ],
     "language": "python",
     "metadata": {},
     "outputs": [],
     "prompt_number": "*"
    },
    {
     "cell_type": "code",
     "collapsed": false,
     "input": [],
     "language": "python",
     "metadata": {},
     "outputs": []
    }
   ],
   "metadata": {}
  }
 ]
}