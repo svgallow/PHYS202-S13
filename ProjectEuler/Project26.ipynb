{
 "metadata": {
  "name": "Project26"
 },
 "nbformat": 3,
 "nbformat_minor": 0,
 "worksheets": [
  {
   "cells": [
    {
     "cell_type": "markdown",
     "metadata": {},
     "source": [
      "Reciprocal cycles\n",
      "=\n",
      "Problem 26\n",
      "-\n",
      "A unit fraction contains 1 in the numerator. The decimal representation of the unit fractions with denominators 2 to 10 are given:\n",
      "\n",
      "$1/2$\t= \t0.5\n",
      "\n",
      "$1/3$\t= \t$0.\\overline{33}$\n",
      "\n",
      "$1/4$\t= \t0.25\n",
      "\n",
      "$1/5$\t= \t0.2\n",
      "\n",
      "$1/6$\t= \t$0.1\\overline{66}$\n",
      "\n",
      "$1/7$\t= \t$0.\\overline{142857}$\n",
      "\n",
      "$1/8$\t= \t0.125\n",
      "\n",
      "$1/9$\t= \t$0.\\overline{1}$\n",
      "\n",
      "1/10\t= \t0.1\n",
      "Where 0.1(6) means 0.166666..., and has a 1-digit recurring cycle. It can be seen that 1/7 has a 6-digit recurring cycle.\n",
      "\n",
      "Find the value of d < 1000 for which 1/d contains the longest recurring cycle in its decimal fraction part."
     ]
    },
    {
     "cell_type": "code",
     "collapsed": false,
     "input": [
      "def recurr(n, d):\n",
      "    # solve 10^s % d == 10^(s+t) % d\n",
      "    # t is length of recurring decimal, s is starting point\n",
      "    for t in range(1, d):\n",
      "        if 1 == 10**t % d:\n",
      "            return t\n",
      "    return 0\n",
      "\n",
      "longest = max(recurr(1, i) for i in range(2,1001))\n",
      "print [i for i in range(2,1001) if recurr(1, i) == longest][0]"
     ],
     "language": "python",
     "metadata": {},
     "outputs": [
      {
       "output_type": "stream",
       "stream": "stdout",
       "text": [
        "983\n"
       ]
      }
     ],
     "prompt_number": 2
    },
    {
     "cell_type": "code",
     "collapsed": false,
     "input": [],
     "language": "python",
     "metadata": {},
     "outputs": []
    }
   ],
   "metadata": {}
  }
 ]
}