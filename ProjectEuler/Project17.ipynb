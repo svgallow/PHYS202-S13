{
 "metadata": {
  "name": "Project17"
 },
 "nbformat": 3,
 "nbformat_minor": 0,
 "worksheets": [
  {
   "cells": [
    {
     "cell_type": "markdown",
     "metadata": {},
     "source": [
      "Number letter counts\n",
      "=\n",
      "Problem 17\n",
      "-\n",
      "If the numbers 1 to 5 are written out in words: one, two, three, four, five, then there are 3 + 3 + 5 + 4 + 4 = 19 letters used in total.\n",
      "\n",
      "If all the numbers from 1 to 1000 (one thousand) inclusive were written out in words, how many letters would be used?\n",
      "\n",
      "\n",
      "NOTE: Do not count spaces or hyphens. For example, 342 (three hundred and forty-two) contains 23 letters and 115 (one hundred and fifteen) contains 20 letters. The use of \"and\" when writing out numbers is in compliance with British usage."
     ]
    },
    {
     "cell_type": "code",
     "collapsed": false,
     "input": [
      "ones =['','one','two','three','four','five','six','seven','eight','nine']\n",
      "teens = ['ten','eleven','twelve','thirteen','fourteen','fifteen','sixteen','seventeen','eighteen','nineteen']\n",
      "tens = ['twenty','thirty','fourty','fifty','sixty','seventy','eighty','ninety']\n",
      "hun = ['onehundredand', 'twohundredand', 'threehundredand', 'fourehundredand', 'fivehundredand', 'sixhundredand', 'sevenhundredand', 'eighthundredand', 'ninehundredand']\n",
      "\n",
      "\n",
      "def LetterCount(num):\n",
      "    total =0\n",
      "    if len(str(num)) == 1: #One digit numbers\n",
      "        total += len(str(ones[num]))\n",
      "    \n",
      "    elif len(str(num)) == 2: #Two digit numbers\n",
      "        if num < 20: #For teens\n",
      "            total+= len(teens[int(str(num)[:0:-1])])\n",
      "        elif num > 19:\n",
      "            if int(str(num)[:0:-1]) ==0:\n",
      "                total += len(tens[int(str(num)[:0:-1])])\n",
      "            else:\n",
      "                total += len(str(ones[int(str(num)[:0:-1])-2]))\n",
      "                total += len(str(tens[int(str(num)[0::-1])-2]))\n",
      "            \n",
      "    elif len(str(num)) == 3: #Three digit numbers\n",
      "            if int(str(num)[:0:-1]) == 0:\n",
      "                total += len(str(hun[int(str(num)[0:1:])-1]))-3\n",
      "            else:\n",
      "                total += len(str(hun[int(str(num)[0:1:])-1])) #First digit\n",
      "                if int(str(num)[1:0:-1]) <2:\n",
      "                    total += len(str(teens[int(str(num)[:1:-1])])) #Second digit\n",
      "                elif str(int(str(num)[0:1:])-1)==0:\n",
      "                    total += len(str(tens[int(str(num)[1:0:-1])-2]))\n",
      "            \n",
      "                elif str(int(str(num)[0:1:])-1)!=0:\n",
      "                    total += len(str(tens[int(str(num)[1:0:-1])-2]))\n",
      "                    total += len(str(ones[int(str(num)[:1:-1])])) #Third digit\n",
      "            \n",
      "    elif len(str(num)) == 4:    #1000\n",
      "            total += 11 #one thousand\n",
      "    \n",
      "    return total"
     ],
     "language": "python",
     "metadata": {},
     "outputs": [],
     "prompt_number": 294
    },
    {
     "cell_type": "code",
     "collapsed": false,
     "input": [
      "num=200\n",
      "print int(str(num)[:0:-1])\n",
      "print LetterCount(999)\n"
     ],
     "language": "python",
     "metadata": {},
     "outputs": [
      {
       "output_type": "stream",
       "stream": "stdout",
       "text": [
        "0\n",
        "24\n"
       ]
      }
     ],
     "prompt_number": 300
    },
    {
     "cell_type": "code",
     "collapsed": false,
     "input": [
      "def LetterSum(num):\n",
      "    lsum = 0\n",
      "    for i in range(1,num+1):\n",
      "        lsum+= LetterCount(i)\n",
      "    return lsum"
     ],
     "language": "python",
     "metadata": {},
     "outputs": [],
     "prompt_number": 301
    },
    {
     "cell_type": "code",
     "collapsed": false,
     "input": [
      "print LetterSum(1000)"
     ],
     "language": "python",
     "metadata": {},
     "outputs": [
      {
       "output_type": "stream",
       "stream": "stdout",
       "text": [
        "21564\n"
       ]
      }
     ],
     "prompt_number": 302
    },
    {
     "cell_type": "code",
     "collapsed": false,
     "input": [],
     "language": "python",
     "metadata": {},
     "outputs": []
    }
   ],
   "metadata": {}
  }
 ]
}