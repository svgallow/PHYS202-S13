{
 "metadata": {
  "name": "Project17"
 },
 "nbformat": 3,
 "nbformat_minor": 0,
 "worksheets": [
  {
   "cells": [
    {
     "cell_type": "markdown",
     "metadata": {},
     "source": [
      "Number letter counts\n",
      "=\n",
      "Problem 17\n",
      "-\n",
      "If the numbers 1 to 5 are written out in words: one, two, three, four, five, then there are 3 + 3 + 5 + 4 + 4 = 19 letters used in total.\n",
      "\n",
      "If all the numbers from 1 to 1000 (one thousand) inclusive were written out in words, how many letters would be used?\n",
      "\n",
      "\n",
      "NOTE: Do not count spaces or hyphens. For example, 342 (three hundred and forty-two) contains 23 letters and 115 (one hundred and fifteen) contains 20 letters. The use of \"and\" when writing out numbers is in compliance with British usage."
     ]
    },
    {
     "cell_type": "code",
     "collapsed": false,
     "input": [
      "prim =['one','two','three','four','five','six','seven','eight','nine','ten','eleven','twelve','thirteen','fourteen','fifteen','sixteen','seventeen','eighteen','nineteen']\n",
      "sec = ['twenty','thirty','fourty','fifty','sixty','seventy','eighty','ninety']\n",
      "hun = ['hundred and']\n",
      "thou = ['one thousand']\n",
      "\n",
      "def LetterCount(num):\n",
      "    total=0\n",
      "    if len(str(num)) == 1: #One digit numbers\n",
      "        total += len(str(prim[num-1]))\n",
      "        \n",
      "    elif len(str(num)) == 2: #Two digit numbers\n",
      "        if num < 20: #For teens\n",
      "            total+= len(str(prim[num-1]))\n",
      "        elif num ==20:\n",
      "            total += 6\n",
      "        elif num > 20:\n",
      "            if int(str(num)[:0:-1]) ==0:\n",
      "                total += len(str(sec[int(str(num)[0::-1])]-2))\n",
      "            else:\n",
      "                total += len(prim[int(str(num)[:0:-1])-1])\n",
      "                total += len(str(sec[int(str(num)[0::-1])-2]))\n",
      "                \n",
      "    elif len(str(num)) == 3: #Three digit numbers\n",
      "            total += len(str(prim[int(str(num)[0:1:])-1])) + 10 #First digit plus \"hundred and\"\n",
      "            total += len(str(sec[int(str(num)[1:0:-1])-2])) #Second digit\n",
      "            total += len(str(prim[int(str(num)[:1:-1])-1]) #Third digit\n",
      "            \n",
      "    elif len(str(num)) == 4:    #1000\n",
      "        total += len(str(thou)) -5\n",
      "        \n",
      "    return total"
     ],
     "language": "python",
     "metadata": {},
     "outputs": [
      {
       "ename": "SyntaxError",
       "evalue": "invalid syntax (<ipython-input-250-a4e21263f3be>, line 28)",
       "output_type": "pyerr",
       "traceback": [
        "\u001b[1;36m  File \u001b[1;32m\"<ipython-input-250-a4e21263f3be>\"\u001b[1;36m, line \u001b[1;32m28\u001b[0m\n\u001b[1;33m    elif len(str(num)) == 4:    #1000\u001b[0m\n\u001b[1;37m       ^\u001b[0m\n\u001b[1;31mSyntaxError\u001b[0m\u001b[1;31m:\u001b[0m invalid syntax\n"
       ]
      }
     ],
     "prompt_number": 250
    },
    {
     "cell_type": "code",
     "collapsed": false,
     "input": [
      "num =831\n",
      "print str(prim[int(str(num)[0:1:])-1])\n",
      "print str(sec[int(str(num)[1:0:-1])-2])\n",
      "print str(prim[int(str(num)[:1:-1])-1])\n"
     ],
     "language": "python",
     "metadata": {},
     "outputs": [
      {
       "output_type": "stream",
       "stream": "stdout",
       "text": [
        "eight\n",
        "thirty\n",
        "one\n"
       ]
      }
     ],
     "prompt_number": 251
    },
    {
     "cell_type": "code",
     "collapsed": false,
     "input": [
      "\n",
      "print LetterCount(123)"
     ],
     "language": "python",
     "metadata": {},
     "outputs": [
      {
       "output_type": "stream",
       "stream": "stdout",
       "text": [
        "11\n",
        "17\n"
       ]
      }
     ],
     "prompt_number": 252
    },
    {
     "cell_type": "code",
     "collapsed": false,
     "input": [],
     "language": "python",
     "metadata": {},
     "outputs": []
    }
   ],
   "metadata": {}
  }
 ]
}