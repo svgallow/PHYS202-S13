{
 "metadata": {
  "name": "Project6"
 },
 "nbformat": 3,
 "nbformat_minor": 0,
 "worksheets": [
  {
   "cells": [
    {
     "cell_type": "markdown",
     "metadata": {},
     "source": [
      "Sum square difference\n",
      "=\n",
      "Problem 6\n",
      "-\n",
      "The sum of the squares of the first ten natural numbers is,\n",
      "\n",
      "$1^2 + 2^2 + ... + 10^2 = 385$\n",
      "The square of the sum of the first ten natural numbers is,\n",
      "\n",
      "$(1 + 2 + ... + 10)^2 = 55^2 = 3025$\n",
      "Hence the difference between the sum of the squares of the first ten natural numbers and the square of the sum is 3025  385 = 2640.\n",
      "\n",
      "Find the difference between the sum of the squares of the first one hundred natural numbers and the square of the sum."
     ]
    },
    {
     "cell_type": "code",
     "collapsed": false,
     "input": [
      "SqSum = sum(range(1, 101))**2 \n",
      "SumSq = sum(x**2 for x in range(1, 101))\n",
      "print SqSum - SumSq"
     ],
     "language": "python",
     "metadata": {},
     "outputs": [
      {
       "output_type": "stream",
       "stream": "stdout",
       "text": [
        "25164150\n"
       ]
      }
     ],
     "prompt_number": 2
    },
    {
     "cell_type": "code",
     "collapsed": false,
     "input": [],
     "language": "python",
     "metadata": {},
     "outputs": []
    }
   ],
   "metadata": {}
  }
 ]
}