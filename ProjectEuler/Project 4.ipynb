{
 "metadata": {
  "name": "Project 4"
 },
 "nbformat": 3,
 "nbformat_minor": 0,
 "worksheets": [
  {
   "cells": [
    {
     "cell_type": "code",
     "collapsed": false,
     "input": [
      "#setting range of first value (using 100-105 for sake of convenience)\n",
      "#printing max value\n",
      "for x in range(105,99,-1):\n",
      "    print x\n",
      "print max(x for x in range(999,99,-1))"
     ],
     "language": "python",
     "metadata": {},
     "outputs": [
      {
       "output_type": "stream",
       "stream": "stdout",
       "text": [
        "105\n",
        "104\n",
        "103\n",
        "102\n",
        "101\n",
        "100\n",
        "999\n"
       ]
      }
     ],
     "prompt_number": 98
    },
    {
     "cell_type": "code",
     "collapsed": false,
     "input": [
      "#printing max sum\n",
      "print max(x*y for x in range(999,99,-1) for y in range(999,99,-1))"
     ],
     "language": "python",
     "metadata": {},
     "outputs": [
      {
       "output_type": "stream",
       "stream": "stdout",
       "text": [
        "998001\n"
       ]
      }
     ],
     "prompt_number": 92
    },
    {
     "cell_type": "code",
     "collapsed": false,
     "input": [
      "#adding if statement to check for palindromes\n",
      "print max(x*y for x in range(999,99,-1) for y in range(999,99,-1) if str(x*y) == str(x*y)[::-1])"
     ],
     "language": "python",
     "metadata": {},
     "outputs": [
      {
       "output_type": "stream",
       "stream": "stdout",
       "text": [
        "906609\n"
       ]
      }
     ],
     "prompt_number": 94
    },
    {
     "cell_type": "code",
     "collapsed": false,
     "input": [],
     "language": "python",
     "metadata": {},
     "outputs": []
    }
   ],
   "metadata": {}
  }
 ]
}