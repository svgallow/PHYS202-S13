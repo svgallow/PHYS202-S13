{
 "metadata": {
  "name": "Project34"
 },
 "nbformat": 3,
 "nbformat_minor": 0,
 "worksheets": [
  {
   "cells": [
    {
     "cell_type": "markdown",
     "metadata": {},
     "source": [
      "Digit factorials\n",
      "=\n",
      "Problem 34\n",
      "-\n",
      "145 is a curious number, as 1! + 4! + 5! = 1 + 24 + 120 = 145.\n",
      "\n",
      "Find the sum of all numbers which are equal to the sum of the factorial of their digits.\n",
      "\n",
      "Note: as 1! = 1 and 2! = 2 are not sums they are not included."
     ]
    },
    {
     "cell_type": "code",
     "collapsed": false,
     "input": [
      "factorials = (1, 1, 2, 6, 24, 120, 720, 5040, 40320, 362880) #Factorials of 1-9\n",
      "n = 0 #This will be the number I'm looking for\n",
      " \n",
      "for i in range(10, 50000):\n",
      "  x = sum( factorials[int(d)] for d in str(i) )\n",
      "  if i == x: n+=i\n",
      " \n",
      "print \"Answer = \",n"
     ],
     "language": "python",
     "metadata": {},
     "outputs": [
      {
       "output_type": "stream",
       "stream": "stdout",
       "text": [
        "Answer =  40730\n"
       ]
      }
     ],
     "prompt_number": 3
    },
    {
     "cell_type": "code",
     "collapsed": false,
     "input": [],
     "language": "python",
     "metadata": {},
     "outputs": []
    }
   ],
   "metadata": {}
  }
 ]
}