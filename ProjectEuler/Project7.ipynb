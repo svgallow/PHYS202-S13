{
 "metadata": {
  "name": "Project7"
 },
 "nbformat": 3,
 "nbformat_minor": 0,
 "worksheets": [
  {
   "cells": [
    {
     "cell_type": "code",
     "collapsed": false,
     "input": [
      "def find_prime(number):\n",
      "    \"\"\"Finds prime numbers\"\"\"\n",
      "    for i in range(2,int(math.sqrt(number))+1): #searches for primes in range\n",
      "        if number%i == 0:\n",
      "            return False\n",
      "    return True"
     ],
     "language": "python",
     "metadata": {},
     "outputs": [],
     "prompt_number": 11
    },
    {
     "cell_type": "code",
     "collapsed": false,
     "input": [
      "prime_numbers = []\n",
      "answer = 1\n",
      "while len(prime_numbers) <= 10000: #10001st prime\n",
      "    answer += 1 #loops until 10001st prime\n",
      "    if find_prime(answer):\n",
      "        prime_numbers.append(answer)\n",
      "print answer"
     ],
     "language": "python",
     "metadata": {},
     "outputs": [
      {
       "output_type": "stream",
       "stream": "stdout",
       "text": [
        "104743\n"
       ]
      }
     ],
     "prompt_number": 12
    },
    {
     "cell_type": "code",
     "collapsed": false,
     "input": [],
     "language": "python",
     "metadata": {},
     "outputs": []
    }
   ],
   "metadata": {}
  }
 ]
}