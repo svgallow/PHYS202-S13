{
 "metadata": {
  "name": "Project31"
 },
 "nbformat": 3,
 "nbformat_minor": 0,
 "worksheets": [
  {
   "cells": [
    {
     "cell_type": "markdown",
     "metadata": {},
     "source": [
      "Coin sums\n",
      "=\n",
      "Problem 31\n",
      "-\n",
      "\n",
      "In England the currency is made up of pound, \u00a3, and pence, p, and there are eight coins in general circulation:\n",
      "\n",
      "1p, 2p, 5p, 10p, 20p, 50p, \u00a31 (100p) and \u00a32 (200p).\n",
      "It is possible to make \u00a32 in the following way:\n",
      "\n",
      "1\u00a31 + 150p + 220p + 15p + 12p + 31p\n",
      "How many different ways can \u00a32 be made using any number of coins?"
     ]
    },
    {
     "cell_type": "code",
     "collapsed": false,
     "input": [
      "total = 200\n",
      "#what we want to have in coins\n",
      "\n",
      "coins = [1,2,5,10,20,50,100,200]\n",
      "#different coin denominations\n",
      "\n",
      "paths = [1]+[0]*total\n",
      " \n",
      "for coin in coins:\n",
      "  for i in range(coin, total+1):\n",
      "    #checks for coins that are the right size (between the coin size and the total)\n",
      "    paths[i] += paths[i-coin]\n",
      "    #adding the total after subtracting one coin\n",
      " \n",
      "print \"Answer to PE31 = \", paths[total]"
     ],
     "language": "python",
     "metadata": {},
     "outputs": [
      {
       "output_type": "stream",
       "stream": "stdout",
       "text": [
        "Answer to PE31 =  73682\n"
       ]
      }
     ],
     "prompt_number": 3
    },
    {
     "cell_type": "code",
     "collapsed": false,
     "input": [],
     "language": "python",
     "metadata": {},
     "outputs": []
    }
   ],
   "metadata": {}
  }
 ]
}