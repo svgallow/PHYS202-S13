{
 "metadata": {
  "name": "DataIO"
 },
 "nbformat": 3,
 "nbformat_minor": 0,
 "worksheets": [
  {
   "cells": [
    {
     "cell_type": "code",
     "collapsed": false,
     "input": [
      "DataIn = loadtxt('input.dat')\n",
      "print DataIn.shape\n",
      "print DataIn"
     ],
     "language": "python",
     "metadata": {},
     "outputs": [
      {
       "output_type": "stream",
       "stream": "stdout",
       "text": [
        "(5, 3)\n",
        "[[ 0.   1.1  0.1]\n",
        " [ 2.   1.9  0.2]\n",
        " [ 4.   3.2  0.1]\n",
        " [ 6.   4.   0.3]\n",
        " [ 8.   5.9  0.3]]\n"
       ]
      }
     ],
     "prompt_number": 2
    },
    {
     "cell_type": "code",
     "collapsed": false,
     "input": [
      "print DataIn[:,2]"
     ],
     "language": "python",
     "metadata": {},
     "outputs": [
      {
       "output_type": "stream",
       "stream": "stdout",
       "text": [
        "[ 0.1  0.2  0.1  0.3  0.3]\n"
       ]
      }
     ],
     "prompt_number": 3
    },
    {
     "cell_type": "code",
     "collapsed": false,
     "input": [
      "x,y,yerr=loadtxt('input.dat', unpack=True)\n",
      "print x\n",
      "print y\n",
      "print yerr"
     ],
     "language": "python",
     "metadata": {},
     "outputs": [
      {
       "output_type": "stream",
       "stream": "stdout",
       "text": [
        "[ 0.  2.  4.  6.  8.]\n",
        "[ 1.1  1.9  3.2  4.   5.9]\n",
        "[ 0.1  0.2  0.1  0.3  0.3]\n"
       ]
      }
     ],
     "prompt_number": 4
    },
    {
     "cell_type": "code",
     "collapsed": false,
     "input": [
      "x,y = loadtxt('input.dat', unpack=True, usecols=[0,1])\n",
      "print x\n",
      "print y"
     ],
     "language": "python",
     "metadata": {},
     "outputs": [
      {
       "output_type": "stream",
       "stream": "stdout",
       "text": [
        "[ 0.  2.  4.  6.  8.]\n",
        "[ 1.1  1.9  3.2  4.   5.9]\n"
       ]
      }
     ],
     "prompt_number": 6
    },
    {
     "cell_type": "markdown",
     "metadata": {},
     "source": [
      "Dealing with CSV files\n",
      "-"
     ]
    },
    {
     "cell_type": "code",
     "collapsed": false,
     "input": [
      "x,y = loadtxt('input.csv', unpack=True, delimiter=',', usecols=[0,1])\n",
      "print x,y"
     ],
     "language": "python",
     "metadata": {},
     "outputs": [
      {
       "output_type": "stream",
       "stream": "stdout",
       "text": [
        "[ 0.  2.  4.  6.  8.] [ 1.1  1.9  3.2  4.   5.9]\n"
       ]
      }
     ],
     "prompt_number": 8
    },
    {
     "cell_type": "markdown",
     "metadata": {},
     "source": [
      "Writing Data to a file.\n",
      "-"
     ]
    },
    {
     "cell_type": "code",
     "collapsed": false,
     "input": [
      "t = array([0.0,0.1,0.2,0.3,0.4,0.5,0.6,0.7,0.8,0.9])\n",
      "v = array([0.137, 0.465, 0.591, 0.713, 0.859, 0.926, 1.139, 1.327, 1.512, 1.875])"
     ],
     "language": "python",
     "metadata": {},
     "outputs": [],
     "prompt_number": 10
    },
    {
     "cell_type": "code",
     "collapsed": false,
     "input": [
      "p = np.zeros(len(v))\n",
      "p = .15 + v/10.\n",
      "print p"
     ],
     "language": "python",
     "metadata": {},
     "outputs": [
      {
       "output_type": "stream",
       "stream": "stdout",
       "text": [
        "[ 0.1637  0.1965  0.2091  0.2213  0.2359  0.2426  0.2639  0.2827  0.3012\n",
        "  0.3375]\n"
       ]
      }
     ],
     "prompt_number": 52
    },
    {
     "cell_type": "code",
     "collapsed": false,
     "input": [
      "savetxt('output.dat', (t,p))"
     ],
     "language": "python",
     "metadata": {},
     "outputs": [],
     "prompt_number": 53
    },
    {
     "cell_type": "code",
     "collapsed": false,
     "input": [
      "DataOut = column_stack((t,p))\n",
      "savetxt('output.dat', DataOut)"
     ],
     "language": "python",
     "metadata": {},
     "outputs": [],
     "prompt_number": 54
    },
    {
     "cell_type": "code",
     "collapsed": false,
     "input": [
      "fmt = '%(width).(precision)(specifier)'"
     ],
     "language": "python",
     "metadata": {},
     "outputs": [],
     "prompt_number": 55
    },
    {
     "cell_type": "code",
     "collapsed": false,
     "input": [
      "#savetxt('output.dat', DataOut, fmt=('%3i', '#4.3f'))\n",
      "#Don't know why this doesn't work"
     ],
     "language": "python",
     "metadata": {},
     "outputs": [],
     "prompt_number": 57
    },
    {
     "cell_type": "code",
     "collapsed": false,
     "input": [
      "f = open(\"output.dat\", \"w\")\n",
      "f.write(\"#My comment line for this file followed by blank line, then data\\n\\n\")\n",
      "savetxt(f, DataOut, fmt=('%3i', '%4.3f'))\n",
      "f.close()"
     ],
     "language": "python",
     "metadata": {},
     "outputs": [],
     "prompt_number": 58
    },
    {
     "cell_type": "markdown",
     "metadata": {},
     "source": [
      "Excercise 1\n",
      "="
     ]
    },
    {
     "cell_type": "code",
     "collapsed": false,
     "input": [
      "#Created my linearData.dat file\n",
      "#Created my linearData.csv file"
     ],
     "language": "python",
     "metadata": {},
     "outputs": [],
     "prompt_number": 64
    },
    {
     "cell_type": "markdown",
     "metadata": {},
     "source": [
      "Excercise 2\n",
      "="
     ]
    },
    {
     "cell_type": "code",
     "collapsed": false,
     "input": [
      "Data = loadtxt('linearData.dat')\n",
      "DataCSV = loadtxt('input.csv', unpack=True, delimiter=',', usecols=[0,1,2])\n",
      "\n",
      "\n",
      "def LinearLeastSquaresFit(x,y):\n",
      "    \"\"\"Take in arrays with (x,y) values for a set of linearly varying data and apply linear least squares regression. \n",
      "    Return slope and intercept parameters of the best fit line with their uncertainties.\"\"\"\n",
      "    averageX = np.sum(x)/len(x) #x average\n",
      "    averageX2 = np.sum(x**2)/len(x**2) #x^2 average\n",
      "    averageY = np.sum(y)/len(y) #y average\n",
      "    averageXY = np.sum(x*y)/len(x*y) #x*y average\n",
      "    slope = (averageXY-(averageX*averageY))/(averageX2-(averageX**2)) #slope formula\n",
      "    intercept = (averageX2*averageY - (averageX*averageXY))/(averageX2-(averageX**2)) #intercept formula\n",
      "    deviation = y - (slope*x + intercept) #deviation to get deviation^2\n",
      "    deviation2 = np.sum(deviation**2)/len(x) #deviation^2 formula\n",
      "    slerr = np.sqrt((1/(len(x)-2.))*(deviation2/(averageX2 - (averageX**2)))) #slope uncertainty\n",
      "    interr = np.sqrt((1/(len(x)-2.))*((deviation2*averageX2)/(averageX2 - (averageX**2)))) #intercept uncertainty\n",
      "    return slope,intercept,slerr,interr"
     ],
     "language": "python",
     "metadata": {},
     "outputs": [],
     "prompt_number": 3
    },
    {
     "cell_type": "code",
     "collapsed": false,
     "input": [
      "x,y = loadtxt('linearData.dat',unpack=True,usecols=[0,1]) #load lineardata.dat from nano\n",
      "print LinearLeastSquaresFit(x,y)"
     ],
     "language": "python",
     "metadata": {},
     "outputs": [
      {
       "output_type": "stream",
       "stream": "stdout",
       "text": [
        "(-0.47145454545454524, 8.2960000000000012, 0.0079948330421529545, 0.049606634453651217)\n"
       ]
      }
     ],
     "prompt_number": 5
    },
    {
     "cell_type": "code",
     "collapsed": false,
     "input": [
      "\n",
      "print \"slope =\",LinearLeastSquaresFit(x,y)[0]\n",
      "print 'intercept =', LinearLeastSquaresFit(x,y)[1]\n",
      "print 'slerr =', LinearLeastSquaresFit(x,y)[2]\n",
      "print 'interr =', LinearLeastSquaresFit(x,y)[3]\n",
      "\n",
      "slope = LinearLeastSquaresFit(x,y)[0]\n",
      "intercept = LinearLeastSquaresFit(x,y)[1]\n",
      "slerr = LinearLeastSquaresFit(x,y)[2]\n",
      "interr = LinearLeastSquaresFit(x,y)[3]\n"
     ],
     "language": "python",
     "metadata": {},
     "outputs": [
      {
       "output_type": "stream",
       "stream": "stdout",
       "text": [
        "slope = -0.471454545455\n",
        "intercept = 8.296\n",
        "slerr = 0.00799483304215\n",
        "interr = 0.0496066344537\n"
       ]
      }
     ],
     "prompt_number": 15
    },
    {
     "cell_type": "code",
     "collapsed": false,
     "input": [
      "F = lambda x: slope*x + intercept #no error function\n",
      "F_AddError = lambda x: (slope+slerr)*x + (intercept+interr) #upper error function\n",
      "F_MinusError = lambda x: (slope-slerr)*x + (intercept-interr) #lower error function\n",
      "plot(x,F(x),label=\"No Error\")\n",
      "plot(x,F_AddError(x),'b:',label='Add Error')\n",
      "plot(x,F_MinusError(x),'g:',label='Minus Error')\n",
      "linelabel = \"y = %.4f x + %.4f\" % (slope,intercept)\n",
      "legend(loc='lower left')\n",
      "show()"
     ],
     "language": "python",
     "metadata": {},
     "outputs": [
      {
       "output_type": "display_data",
       "png": "[encoded data removed]"
      }
     ],
     "prompt_number": 16
    },
    {
     "cell_type": "markdown",
     "metadata": {},
     "source": [
      "Question 3\n",
      "-"
     ]
    },
    {
     "cell_type": "code",
     "collapsed": false,
     "input": [
      "def WeightedLinearLeastSquaresFit(x,y,w):\n",
      "    \"\"\"Take in arrays representing (x,y) values for a set of linearly varying data and an array of weights w. Preform a weighted linear least squares regression. Return the resulting slope and intercept parameters of the best fit line with their uncertainties.\"\"\"\n",
      "    wsum = np.sum(w) \n",
      "    w_x = np.sum(w*x) #weighted x sum\n",
      "    w_x2 = np.sum(w*(x**2)) #weighted x^2 sum\n",
      "    w_y = np.sum(w*y) #weighted y sum\n",
      "    w_xy = np.sum(w*x*y) #weighted x*y sum\n",
      "    slope = (wsum*w_xy - w_x*w_y)/(wsum*w_x2 - w_x**2) #slope formula\n",
      "    intercept = (w_x2*w_y - w_x*w_xy)/(wsum*w_x2 - w_x**2) #intercept\n",
      "    if sum(w)/len(w) == 1:\n",
      "        averageX = np.sum(x)/len(x) #all code for if part is from question 2\n",
      "        averageX2 = np.sum(x**2)/len(x**2)\n",
      "        averageY = np.sum(y)/len(y)\n",
      "        averageXY = np.sum(x*y)/len(x*y)\n",
      "        deviation = y - (slope*x + intercept) \n",
      "        deviation2 = np.sum(deviation**2)/len(x) \n",
      "        slerr = np.sqrt((1/(len(x)-2.))*(deviation2/(averageX2 - (averageX**2))))\n",
      "        interr = np.sqrt((1/(len(x)-2.))*((deviation2*averageX2)/(averageX2 - (averageX**2))))\n",
      "    else:\n",
      "        slerr = np.sqrt(wsum/((wsum*w_x2) - (w_x**2))) #weighted slope error\n",
      "        interr = np.sqrt(w_x2/(wsum*w_x2 - w_x**2)) #weighted intercept error\n",
      "    return slope,slerr,intercept,interr"
     ],
     "language": "python",
     "metadata": {},
     "outputs": [],
     "prompt_number": 22
    },
    {
     "cell_type": "code",
     "collapsed": false,
     "input": [
      "x,y,z = loadtxt('linearData.dat',unpack=True,usecols=[0,1,2])\n",
      "w = 1/(z**2)\n",
      "print WeightedLinearLeastSquaresFit(x,y,w)"
     ],
     "language": "python",
     "metadata": {},
     "outputs": [
      {
       "output_type": "stream",
       "stream": "stdout",
       "text": [
        "(-0.45202282990173598, 0.0069508975009701171, 8.2218768835489318, 0.021820742667926343)\n"
       ]
      }
     ],
     "prompt_number": 23
    },
    {
     "cell_type": "code",
     "collapsed": false,
     "input": [
      "slopeL = LinearLeastSquaresFit(x,y)[0] #assign column values next 4 lines\n",
      "interceptL = LinearLeastSquaresFit(x,y)[1]\n",
      "slopew = WeightedLinearLeastSquaresFit(x,y,w)[0]\n",
      "interceptw = WeightedLinearLeastSquaresFit(x,y,w)[2]\n",
      "fL = lambda x: slopeL*x + interceptL \n",
      "fw = lambda x: slopew*x + interceptw\n",
      "linelabel = \"y = %.4f x + %.4f\" %(slopeL,interceptL)\n",
      "weightedlinelabel = \"weighted_y = %.4f x + %.4f\" %(slopew,interceptw)\n",
      "plot(x,fL(x),label=linelabel)\n",
      "plot(x,fw(x),label=weightedlinelabel)\n",
      "errorbar(x,y,z,label='error')\n",
      "legend()\n",
      "show()\n",
      "slopeL = LinearLeastSquaresFit(x,y)[0] #assign collumn values\n",
      "interceptL = LinearLeastSquaresFit(x,y)[1]\n",
      "slopew = WeightedLinearLeastSquaresFit(x,y,w)[0]\n",
      "interceptw = WeightedLinearLeastSquaresFit(x,y,w)[2]\n",
      "fL = lambda x: slopeL*x + interceptL \n",
      "fw = lambda x: slopew*x + interceptw\n",
      "linelabel = \"y = %.4f x + %.4f\" %(slopeL,interceptL)\n",
      "weightedlinelabel = \"weighted_y = %.4f x + %.4f\" %(slopew,interceptw)\n",
      "plot(x,fL(x),label=linelabel)\n",
      "plot(x,fw(x),label=weightedlinelabel)\n",
      "errorbar(x,y,z,label='error')\n",
      "legend()\n",
      "show()"
     ],
     "language": "python",
     "metadata": {},
     "outputs": [
      {
       "output_type": "display_data",
       "png": "[encoded data removed]"
      },
      {
       "output_type": "display_data",
       "png": "[encoded data removed]"
      }
     ],
     "prompt_number": 25
    },
    {
     "cell_type": "code",
     "collapsed": false,
     "input": [],
     "language": "python",
     "metadata": {},
     "outputs": []
    }
   ],
   "metadata": {}
  }
 ]
}