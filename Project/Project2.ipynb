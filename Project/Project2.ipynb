{
 "metadata": {
  "name": "Project2"
 },
 "nbformat": 3,
 "nbformat_minor": 0,
 "worksheets": [
  {
   "cells": [
    {
     "cell_type": "code",
     "collapsed": false,
     "input": [
      "import numpy as np\n",
      "n = 5\n",
      "x = sort(np.round(np.random.random(n)*40)) #I am sorting the x values so I can compare cars to the one immediately in front of them\n",
      "v = np.round(np.random.random(n)*70)\n",
      "\n",
      "def CA184(n, l, x, v):\n",
      "    \"\"\"Takes an array of  \"n\" number of car positions \"x\", velocity \"v\", and road length \"l\" \"\"\"\n",
      "    l = 40\n",
      "    g = np.zeros(n)\n",
      "    vmax = 70 #Highway speed limit I guess\n",
      "    \n",
      "    for i in range(n):\n",
      "        if i+1 < n:\n",
      "            g[i] = int(x[i+1] - x[i])\n",
      "        else: \n",
      "            g[i] = l - x[i]   #For the front car, the distance to the next car will be the amount of road left\n",
      "        #print 'Car number', i+1\n",
      "        #print 'Position', x[i]\n",
      "        #print \"Distance to next\", g[i]\n",
      "        #print \"\" \n",
      "        \n",
      "    for i in range(n):\n",
      "        if g[i] == 0:\n",
      "            v[i] = 0\n",
      "            #return v[i]\n",
      "        elif v[i] > g[i]:\n",
      "            v[i] = g[i]\n",
      "            x[i] += g[i]\n",
      "            #return v[i],g[i], x[i]\n",
      "        elif v[i] < g[i] and v[i] < vmax:\n",
      "            v[i] = v[i] + 1\n",
      "            x[i] += v[i]\n",
      "            #return g[i],v[i], x[i]\n",
      "    print \"Adjusted Velocity = \", v\n",
      "    print \"Distance b/w cars= \", g\n",
      "    print \"New position = \", x"
     ],
     "language": "python",
     "metadata": {},
     "outputs": [],
     "prompt_number": 346
    },
    {
     "cell_type": "markdown",
     "metadata": {},
     "source": [
      "Testing the code\n",
      "-"
     ]
    },
    {
     "cell_type": "code",
     "collapsed": false,
     "input": [
      "print \"Position = \", x\n",
      "print \"Initial Velocity = \", v\n",
      "#print v\n",
      "print CA184(5, 40, x, v)"
     ],
     "language": "python",
     "metadata": {},
     "outputs": [
      {
       "output_type": "stream",
       "stream": "stdout",
       "text": [
        "Position =  [  5.  17.  25.  34.  36.]\n",
        "Initial Velocity =  [ 16.  62.  19.  38.  34.]\n",
        "Adjusted Velocity =  [ 12.   8.   9.   2.   4.]\n",
        "Distance b/w cars=  [ 12.   8.   9.   2.   4.]\n",
        "New position =  [ 17.  25.  34.  36.  40.]\n",
        "None\n"
       ]
      }
     ],
     "prompt_number": 347
    },
    {
     "cell_type": "markdown",
     "metadata": {},
     "source": [
      "After another time-unit\n",
      "-"
     ]
    },
    {
     "cell_type": "code",
     "collapsed": false,
     "input": [
      "print \"Position = \", x\n",
      "#print v\n",
      "print CA184(5, 40, x, v)"
     ],
     "language": "python",
     "metadata": {},
     "outputs": [
      {
       "output_type": "stream",
       "stream": "stdout",
       "text": [
        "Position =  [ 17.  25.  34.  36.  40.]\n",
        "Adjusted Velocity =  [ 8.  9.  2.  3.  0.]\n",
        "Distance b/w cars=  [ 8.  9.  2.  4.  0.]\n",
        "New position =  [ 25.  34.  36.  39.  40.]\n",
        "None\n"
       ]
      }
     ],
     "prompt_number": 348
    },
    {
     "cell_type": "code",
     "collapsed": false,
     "input": [],
     "language": "python",
     "metadata": {},
     "outputs": [],
     "prompt_number": 348
    },
    {
     "cell_type": "code",
     "collapsed": false,
     "input": [],
     "language": "python",
     "metadata": {},
     "outputs": []
    }
   ],
   "metadata": {}
  }
 ]
}