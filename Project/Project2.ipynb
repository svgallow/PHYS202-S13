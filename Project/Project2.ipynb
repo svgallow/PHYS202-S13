{
 "metadata": {
  "name": "Project2"
 },
 "nbformat": 3,
 "nbformat_minor": 0,
 "worksheets": [
  {
   "cells": [
    {
     "cell_type": "markdown",
     "metadata": {},
     "source": [
      "CA184 Ruleset\n",
      "-"
     ]
    },
    {
     "cell_type": "code",
     "collapsed": false,
     "input": [
      "def road(n,l,vmax):\n",
      "    \"\"\"Returns a position and velocity array for \"n\" cars on a road \"l\" positions long, speed limit is vmax\"\"\"\n",
      "    road = range(l)\n",
      "    random.shuffle(road)\n",
      "    x=road[:n]\n",
      "    x=sort(x)\n",
      "\n",
      "    v=zeros(n,dtype=int)\n",
      "    for i in range(n):\n",
      "        v[i]=randint(0,vmax)\n",
      "\n",
      "    road = np.array([x,v])\n",
      "    return road\n",
      "\n",
      "\n",
      "print road(5,50,10)"
     ],
     "language": "python",
     "metadata": {},
     "outputs": [
      {
       "output_type": "stream",
       "stream": "stdout",
       "text": [
        "[[ 4 11 29 30 49]\n",
        " [ 2  6  2  3  2]]\n"
       ]
      }
     ],
     "prompt_number": 190
    },
    {
     "cell_type": "code",
     "collapsed": false,
     "input": [
      "def CA184(road,l,n,vmax):\n",
      "    \"\"\"Returns the new position/velocity of \"n\" cars represented with an array of road length \"l\" with max speed vmax from CA184 rulset.\"\"\"\n",
      "    for i in range(n):\n",
      "        if i<(n-1): #finds g for all cars but last\n",
      "            if road[0][i+1]>road[0][i]: #g if car is not last\n",
      "                g = road[0][i+1]-road[0][i]-1\n",
      "            else: #g if car is last\n",
      "                g = (l-road[0][i])+(road[0][i+1]-1)\n",
      "        else: #calculates g for last car\n",
      "            if road[0][1]>road[0][i]:\n",
      "                g = road[0][1]-road[0][i]-1\n",
      "            else:\n",
      "                g = (l-road[0][i])+(road[0][1]-1)\n",
      "        if g==0: #v according to CA184\n",
      "            road[1][i]=0\n",
      "        elif g>road[1][i] and road[1][i]<vmax:\n",
      "            road[1][i]=road[1][i]+1\n",
      "        elif g<road[1][i]:\n",
      "            road[1][i]=g\n",
      "\n",
      "    for i in range(n): #moves cars forward v\n",
      "        if road[0][i]+road[1][i]<=l: #if car is not at end of road\n",
      "            road[0][i]=road[0][i]+road[1][i]\n",
      "        else: #if car is last and returns to beginning of the road\n",
      "            road[0][i]=road[1][i]-(l-road[0][i])\n",
      "   \n",
      "    return road"
     ],
     "language": "python",
     "metadata": {},
     "outputs": [],
     "prompt_number": 8
    },
    {
     "cell_type": "markdown",
     "metadata": {},
     "source": [
      "Testing the code\n",
      "-"
     ]
    },
    {
     "cell_type": "code",
     "collapsed": false,
     "input": [
      "road1 = road(5,50,10)\n",
      "print road1"
     ],
     "language": "python",
     "metadata": {},
     "outputs": [
      {
       "output_type": "stream",
       "stream": "stdout",
       "text": [
        "[[ 5  7  9 12 35]\n",
        " [ 7  3  3  7  0]]\n"
       ]
      }
     ],
     "prompt_number": 9
    },
    {
     "cell_type": "code",
     "collapsed": false,
     "input": [
      "road2 = CA184(road1,50,5,10)\n",
      "print road2"
     ],
     "language": "python",
     "metadata": {},
     "outputs": [
      {
       "output_type": "stream",
       "stream": "stdout",
       "text": [
        "[[ 6  8 11 20 36]\n",
        " [ 1  1  2  8  1]]\n"
       ]
      }
     ],
     "prompt_number": 10
    },
    {
     "cell_type": "code",
     "collapsed": false,
     "input": [
      "road3 = CA184(road2,50,5,10)\n",
      "print road3"
     ],
     "language": "python",
     "metadata": {},
     "outputs": [
      {
       "output_type": "stream",
       "stream": "stdout",
       "text": [
        "[[ 7 10 14 29 38]\n",
        " [ 1  2  3  9  2]]\n"
       ]
      }
     ],
     "prompt_number": 11
    },
    {
     "cell_type": "markdown",
     "metadata": {},
     "source": [
      "Code works fine "
     ]
    },
    {
     "cell_type": "code",
     "collapsed": false,
     "input": [],
     "language": "python",
     "metadata": {},
     "outputs": [],
     "prompt_number": 11
    },
    {
     "cell_type": "markdown",
     "metadata": {},
     "source": [
      "STCA\n",
      "-"
     ]
    },
    {
     "cell_type": "code",
     "collapsed": false,
     "input": [
      "def STCA(road,l,n,vmax,p):\n",
      "    \"\"\"Returns the new positions and velocities of c cars represented in the array on a lenght L road with max speed of v_max\\n\",\n",
      "    and slowdown probability p according to STCA rulset.\"\"\"\n",
      "    for i in range(n):\n",
      "        if i<(n-1): #finds g for all positions but last one in array\n",
      "            if road[0][i+1]>road[0][i]: #g if  car is not last one on road\n",
      "                g = road[0][i+1]-road[0][i]-1\n",
      "            else: #g if car is last one on road\n",
      "                g = (l-road[0][i])+(road[0][i+1]-1)\n",
      "        else: #finds g for last position element in array\n",
      "            if road[0][1]>road[0][i]:\n",
      "                g = road[0][1]-road[0][i]-1\n",
      "            else:\n",
      "                g = (l-road[0][i])+(road[0][1]-1)\n",
      "        if g==0: #new v determined by STCA\n",
      "            road[1][i]=0\n",
      "        elif g>road[1][i] and road[1][i]<vmax:\n",
      "            road[1][i]=road[1][i]+1\n",
      "        elif g<road[1][i]:\n",
      "            road[1][i]=g\n",
      "        if random_sample(1)<p and road[1][i]>0:\n",
      "            road[1][i]=road[1][i]-1\n",
      "    for i in range(n): #moves all cars forwad by velocities\n",
      "        if road[0][i]+road[1][i]<=l: #if car is not looping around\n",
      "            road[0][i]=road[0][i]+road[1][i]\n",
      "        else: #if car is last and loops back to the beginning\n",
      "            road[0][i]=road[1][i]-(l-road[0][i])\n",
      "            \n",
      "    return road"
     ],
     "language": "python",
     "metadata": {},
     "outputs": [],
     "prompt_number": 78
    },
    {
     "cell_type": "markdown",
     "metadata": {},
     "source": [
      "Testing the STCA\n",
      "-"
     ]
    },
    {
     "cell_type": "code",
     "collapsed": false,
     "input": [
      "road1 = road(5,50,10)\n",
      "print road1"
     ],
     "language": "python",
     "metadata": {},
     "outputs": [
      {
       "output_type": "stream",
       "stream": "stdout",
       "text": [
        "[[20 33 39 44 49]\n",
        " [ 7  6  1  3  5]]\n"
       ]
      }
     ],
     "prompt_number": 79
    },
    {
     "cell_type": "code",
     "collapsed": false,
     "input": [
      "road2 = STCA(road1,50,5,10,0)\n",
      "print road2"
     ],
     "language": "python",
     "metadata": {},
     "outputs": [
      {
       "output_type": "stream",
       "stream": "stdout",
       "text": [
        "[[28 38 41 48  5]\n",
        " [ 8  5  2  4  6]]\n"
       ]
      }
     ],
     "prompt_number": 80
    },
    {
     "cell_type": "code",
     "collapsed": false,
     "input": [
      "road3 = STCA(road2,50,5,10,0)\n",
      "print road3"
     ],
     "language": "python",
     "metadata": {},
     "outputs": [
      {
       "output_type": "stream",
       "stream": "stdout",
       "text": [
        "[[37 40 44  3 12]\n",
        " [ 9  2  3  5  7]]\n"
       ]
      }
     ],
     "prompt_number": 81
    },
    {
     "cell_type": "code",
     "collapsed": false,
     "input": [
      "road4 = STCA(road3,50,5,10,0.1)\n",
      "print road4"
     ],
     "language": "python",
     "metadata": {},
     "outputs": [
      {
       "output_type": "stream",
       "stream": "stdout",
       "text": [
        "[[38 43 48  9 20]\n",
        " [ 1  3  4  6  8]]\n"
       ]
      }
     ],
     "prompt_number": 82
    },
    {
     "cell_type": "markdown",
     "metadata": {},
     "source": [
      "STCA works fine"
     ]
    },
    {
     "cell_type": "markdown",
     "metadata": {},
     "source": [
      "ASEP Algorithm\n",
      "="
     ]
    },
    {
     "cell_type": "code",
     "collapsed": false,
     "input": [
      "\n",
      "def ASEP(road,l,n, vmax):\n",
      "    \"\"\"Returns positions and velocities of \"n\" cars on road w/length \"l\", according to ASEP rulset.\"\"\"\n",
      "    street = range(n)\n",
      "    random.shuffle(street)\n",
      "    for k in range(len(street)):\n",
      "        i = street[k]\n",
      "        if i<(n-1): #finds g for all cars but last\n",
      "            if road[0][i+1]>road[0][i]: #g if  car is not last\n",
      "                g = road[0][i+1]-road[0][i]-1\n",
      "            else: #g if car is last \n",
      "                g = (l-road[0][i])+(road[0][i+1]-1)\n",
      "        else: #finds g for last road position\n",
      "            if road[0][1]>road[0][i]:\n",
      "                g = road[0][1]-road[0][i]-1\n",
      "            else:\n",
      "                g = (l-road[0][i])+(road[0][1]-1)\n",
      "        if g==0: #new v according to ASEP\n",
      "            road[1][i]=0\n",
      "        elif g>road[1][i] and road[1][i]<vmax:\n",
      "            road[1][i]=road[1][i]+1\n",
      "        elif g<road[1][i]:\n",
      "            road[1][i]=g\n",
      "        #Move car \"v\" units\n",
      "        if road[0][i]+road[1][i]<=l: #if car is not at end of road\n",
      "            road[0][i]=road[0][i]+road[1][i]\n",
      "        else: #if car loops back to beginnings\n",
      "            road[0][i]=road[1][i]-(l-road[0][i])\n",
      "    \n",
      "    return road"
     ],
     "language": "python",
     "metadata": {},
     "outputs": [],
     "prompt_number": 83
    },
    {
     "cell_type": "code",
     "collapsed": false,
     "input": [
      "ASEProad = road(5,40,10)\n",
      "print ASEProad"
     ],
     "language": "python",
     "metadata": {},
     "outputs": [
      {
       "output_type": "stream",
       "stream": "stdout",
       "text": [
        "[[ 5 11 12 18 28]\n",
        " [ 5  1  9  5  7]]\n"
       ]
      }
     ],
     "prompt_number": 84
    },
    {
     "cell_type": "code",
     "collapsed": false,
     "input": [
      "test1 = ASEP(ASEProad,50,5,10)\n",
      "print test1"
     ],
     "language": "python",
     "metadata": {},
     "outputs": [
      {
       "output_type": "stream",
       "stream": "stdout",
       "text": [
        "[[10 11 22 24 36]\n",
        " [ 5  0 10  6  8]]\n"
       ]
      }
     ],
     "prompt_number": 85
    },
    {
     "cell_type": "code",
     "collapsed": false,
     "input": [
      "test2 = ASEP(test1,50,5,10)\n",
      "print test2"
     ],
     "language": "python",
     "metadata": {},
     "outputs": [
      {
       "output_type": "stream",
       "stream": "stdout",
       "text": [
        "[[11 12 23 31 45]\n",
        " [ 1  1  1  7  9]]\n"
       ]
      }
     ],
     "prompt_number": 86
    },
    {
     "cell_type": "code",
     "collapsed": false,
     "input": [
      "test3 = ASEP(test2,50,5,10)\n",
      "print test3"
     ],
     "language": "python",
     "metadata": {},
     "outputs": [
      {
       "output_type": "stream",
       "stream": "stdout",
       "text": [
        "[[13 14 25 39  5]\n",
        " [ 2  2  2  8 10]]\n"
       ]
      }
     ],
     "prompt_number": 87
    },
    {
     "cell_type": "markdown",
     "metadata": {},
     "source": [
      "Works fine"
     ]
    },
    {
     "cell_type": "code",
     "collapsed": false,
     "input": [
      "def traffic(rules,l,n,vmax,p,N):\n",
      "    R=road(n,l,vmax)\n",
      "    if rules=='STCA':\n",
      "        Vav=np.zeros(N)\n",
      "        POSav=np.zeros(N)\n",
      "        for h in range(N):\n",
      "            R=STCA(R,l,n,vmax,p)\n",
      "            v=0\n",
      "            POS=0\n",
      "            for i in range(n):\n",
      "                v = v + R[1][i]\n",
      "                POS = POS + R[0][i]\n",
      "            Vav[h]=(v/n)\n",
      "            POSav[h]=(POS/n)\n",
      "        return Vav,POSav\n",
      "    if rules=='ASEP':\n",
      "        Vav=np.zeros(N)\n",
      "        POSav=np.zeros(N)\n",
      "        for j in range(N):\n",
      "            R=ASEP(R,l,n,vmax)\n",
      "            v=0\n",
      "            POS=0\n",
      "            for k in range(n):\n",
      "                v = v + R[1][k]\n",
      "                POS = POS + R[0][k]\n",
      "            Vav[j]=(v/n)\n",
      "            POSav[j]=(POS/n)\n",
      "        return Vav, POSav"
     ],
     "language": "python",
     "metadata": {},
     "outputs": [],
     "prompt_number": 125
    },
    {
     "cell_type": "markdown",
     "metadata": {},
     "source": [
      "STCA\n",
      "-\n",
      "Current vs Time and Position vs Time"
     ]
    },
    {
     "cell_type": "code",
     "collapsed": false,
     "input": [
      "q=traffic('STCA',40,10,7,0.02,200)\n",
      "density=10./40.\n",
      "current1=q[0]*density"
     ],
     "language": "python",
     "metadata": {},
     "outputs": [],
     "prompt_number": 173
    },
    {
     "cell_type": "code",
     "collapsed": false,
     "input": [
      "plot(arange(200), current1,'r.', markersize=5,label='Current vs Time')\n",
      "xlabel('Time steps', fontsize=15)\n",
      "ylabel('Current',fontsize=15)\n",
      "legend(loc=0)\n",
      "show()"
     ],
     "language": "python",
     "metadata": {},
     "outputs": [
      {
       "output_type": "display_data",
       "png": "[encoded data removed]"
      }
     ],
     "prompt_number": 174
    },
    {
     "cell_type": "code",
     "collapsed": false,
     "input": [
      "plot(arange(200),q[1],'r.', markersize=10,label='Positon vs Time')\n",
      "xlabel('Time steps', fontsize=20)\n",
      "ylabel('Average Positon', fontsize=20)\n",
      "legend(loc=0)\n",
      "show()"
     ],
     "language": "python",
     "metadata": {},
     "outputs": [
      {
       "output_type": "display_data",
       "png": "[encoded data removed]"
      }
     ],
     "prompt_number": 175
    },
    {
     "cell_type": "markdown",
     "metadata": {},
     "source": [
      "ASEP\n",
      "-\n",
      "Current vs Time and Position vs Time"
     ]
    },
    {
     "cell_type": "code",
     "collapsed": false,
     "input": [
      "u=traffic('ASEP',40,10,7,0.02,200)\n",
      "density=10./40.\n",
      "current2=u[0]*density"
     ],
     "language": "python",
     "metadata": {},
     "outputs": [],
     "prompt_number": 185
    },
    {
     "cell_type": "code",
     "collapsed": false,
     "input": [
      "plot(arange(200),current2,'r.',markersize=5, label='Current vs Time')\n",
      "xlabel('Time steps', fontsize=15)\n",
      "ylabel('Current',fontsize=15)\n",
      "legend(loc=0)\n",
      "show()"
     ],
     "language": "python",
     "metadata": {},
     "outputs": [
      {
       "output_type": "display_data",
       "png": "[encoded data removed]"
      }
     ],
     "prompt_number": 186
    },
    {
     "cell_type": "code",
     "collapsed": false,
     "input": [
      "plot(arange(200),u[1],'r.',markersize=10, label='Positon vs Time')\n",
      "xlabel('Time steps', fontsize=15)\n",
      "ylabel('Average Positon', fontsize=15)\n",
      "legend(loc=0)\n",
      "show()"
     ],
     "language": "python",
     "metadata": {},
     "outputs": [
      {
       "output_type": "display_data",
       "png": "[encoded data removed]"
      }
     ],
     "prompt_number": 187
    },
    {
     "cell_type": "code",
     "collapsed": false,
     "input": [
      "def STCA_PROB(N,l,vmax):\n",
      "    \"\"\"Creates road/car pairs for \"N\" many density values between 0 and 0.8\"\"\"\n",
      "    density = arange(0.,.81,.01)\n",
      "    PAIRS = [[],[]]\n",
      "    for i in range(N):\n",
      "        n[i] = density[i]*l\n",
      "\n",
      "    \n",
      "\n",
      "\n",
      "print STCA_PROB(80,50,10)"
     ],
     "language": "python",
     "metadata": {},
     "outputs": [],
     "prompt_number": 188
    },
    {
     "cell_type": "code",
     "collapsed": false,
     "input": [],
     "language": "python",
     "metadata": {},
     "outputs": []
    }
   ],
   "metadata": {}
  }
 ]
}