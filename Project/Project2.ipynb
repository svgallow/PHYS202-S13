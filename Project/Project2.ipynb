{
 "metadata": {
  "name": "Project2"
 },
 "nbformat": 3,
 "nbformat_minor": 0,
 "worksheets": [
  {
   "cells": [
    {
     "cell_type": "markdown",
     "metadata": {},
     "source": [
      "CA184 Ruleset\n",
      "-"
     ]
    },
    {
     "cell_type": "code",
     "collapsed": false,
     "input": [
      "def road(n,l,vmax):\n",
      "    \"\"\"Returns a position and velocity array for \"n\" cars on a road \"l\" positions long, speed limit is vmax\"\"\"\n",
      "    r = range(l)\n",
      "    random.shuffle(r)\n",
      "    x=r[:n]\n",
      "    x=sort(x)\n",
      "\n",
      "    v=zeros(n,dtype=int)\n",
      "    for i in range(n):\n",
      "        v[i]=randint(0,vmax)\n",
      "\n",
      "    road = np.array([x,v])\n",
      "    return road\n",
      "\n",
      "\n",
      "print road(5,50,10)"
     ],
     "language": "python",
     "metadata": {},
     "outputs": [
      {
       "output_type": "stream",
       "stream": "stdout",
       "text": [
        "[[ 9 13 27 44 46]\n",
        " [ 2  2  7  5  7]]\n"
       ]
      }
     ],
     "prompt_number": 114
    },
    {
     "cell_type": "code",
     "collapsed": false,
     "input": [
      "def CA184(road,l,n,vmax):\n",
      "    \"\"\"Returns the new position/velocity of \"n\" cars represented with an array of road length \"l\" with max speed vmax from CA184 rulset.\"\"\"\n",
      "    for i in range(n):\n",
      "        if i<(n-1): #finds g for all cars but last\n",
      "            if road[0][i+1]>road[0][i]: #g if car is not last\n",
      "                g = road[0][i+1]-road[0][i]-1\n",
      "            else: #g if car is last\n",
      "                g = (l-road[0][i])+(road[0][i+1]-1)\n",
      "        else: #calculates g for last car\n",
      "            if road[0][1]>road[0][i]:\n",
      "                g = road[0][1]-road[0][i]-1\n",
      "            else:\n",
      "                g = (l-road[0][i])+(road[0][1]-1)\n",
      "        if g==0: #v according to CA184\n",
      "            road[1][i]=0\n",
      "        elif g>road[1][i] and road[1][i]<vmax:\n",
      "            road[1][i]=road[1][i]+1\n",
      "        elif g<road[1][i]:\n",
      "            road[1][i]=g\n",
      "\n",
      "    for i in range(n): #moves cars forward v\n",
      "        if road[0][i]+road[1][i]<=l: #if car is not at end of road\n",
      "            road[0][i]=road[0][i]+road[1][i]\n",
      "        else: #if car is last and returns to beginning of the road\n",
      "            road[0][i]=road[1][i]-(l-road[0][i])\n",
      "   \n",
      "    return road"
     ],
     "language": "python",
     "metadata": {},
     "outputs": [],
     "prompt_number": 115
    },
    {
     "cell_type": "markdown",
     "metadata": {},
     "source": [
      "Testing the code\n",
      "-"
     ]
    },
    {
     "cell_type": "code",
     "collapsed": false,
     "input": [
      "road1 = road(5,50,10)\n",
      "print road1"
     ],
     "language": "python",
     "metadata": {},
     "outputs": [
      {
       "output_type": "stream",
       "stream": "stdout",
       "text": [
        "[[ 1 22 29 31 36]\n",
        " [ 2  3  2  9  7]]\n"
       ]
      }
     ],
     "prompt_number": 116
    },
    {
     "cell_type": "code",
     "collapsed": false,
     "input": [
      "road2 = CA184(road1,50,5,10)\n",
      "print road2"
     ],
     "language": "python",
     "metadata": {},
     "outputs": [
      {
       "output_type": "stream",
       "stream": "stdout",
       "text": [
        "[[ 4 26 30 35 44]\n",
        " [ 3  4  1  4  8]]\n"
       ]
      }
     ],
     "prompt_number": 117
    },
    {
     "cell_type": "code",
     "collapsed": false,
     "input": [
      "road3 = CA184(road2,50,5,10)\n",
      "print road3"
     ],
     "language": "python",
     "metadata": {},
     "outputs": [
      {
       "output_type": "stream",
       "stream": "stdout",
       "text": [
        "[[ 8 29 32 40  3]\n",
        " [ 4  3  2  5  9]]\n"
       ]
      }
     ],
     "prompt_number": 118
    },
    {
     "cell_type": "markdown",
     "metadata": {},
     "source": [
      "Code works fine "
     ]
    },
    {
     "cell_type": "code",
     "collapsed": false,
     "input": [],
     "language": "python",
     "metadata": {},
     "outputs": [],
     "prompt_number": 118
    },
    {
     "cell_type": "markdown",
     "metadata": {},
     "source": [
      "STCA\n",
      "-"
     ]
    },
    {
     "cell_type": "code",
     "collapsed": false,
     "input": [
      "def STCA(road,l,n,vmax,p):\n",
      "    \"\"\"Returns the new positions and velocities of c cars represented in the array on a lenght L road with max speed of v_max\\n\",\n",
      "    and slowdown probability p according to STCA rulset.\"\"\"\n",
      "    for i in range(n):\n",
      "        if i<(n-1): #calculates g for all positions but last one in array\n",
      "            if road[0][i+1]>road[0][i]: #g if  car is not last one on road\n",
      "                g = road[0][i+1]-road[0][i]-1\n",
      "            else: #g if car is last one on road\n",
      "                g = (l-road[0][i])+(road[0][i+1]-1)\n",
      "        else: #calculates g for last position element in array\n",
      "            if road[0][1]>road[0][i]:\n",
      "                g = road[0][1]-road[0][i]-1\n",
      "            else:\n",
      "                g = (l-road[0][i])+(road[0][1]-1)\n",
      "        if g==0: #new v determined by following rules\n",
      "            road[1][i]=0\n",
      "        elif g>road[1][i] and road[1][i]<vmax:\n",
      "            road[1][i]=road[1][i]+1\n",
      "        elif g<road[1][i]:\n",
      "            road[1][i]=g\n",
      "        if random_sample(1)<p and road[1][i]>0:\n",
      "            road[1][i]=road[1][i]-1\n",
      "    for i in range(n): #moves all cars forwad by velocities\n",
      "        if road[0][i]+road[1][i]<=l: #if car is not looping around\n",
      "            road[0][i]=road[0][i]+road[1][i]\n",
      "        else: #if car is last on road and loops around\n",
      "            road[0][i]=road[1][i]-(l-road[0][i])\n",
      "            \n",
      "    return road"
     ],
     "language": "python",
     "metadata": {},
     "outputs": [],
     "prompt_number": 119
    },
    {
     "cell_type": "markdown",
     "metadata": {},
     "source": [
      "Testing the STCA\n",
      "-"
     ]
    },
    {
     "cell_type": "code",
     "collapsed": false,
     "input": [
      "road1 = road(5,50,10)\n",
      "print road1"
     ],
     "language": "python",
     "metadata": {},
     "outputs": [
      {
       "output_type": "stream",
       "stream": "stdout",
       "text": [
        "[[ 9 17 22 30 44]\n",
        " [ 7  3  8  4  9]]\n"
       ]
      }
     ],
     "prompt_number": 120
    },
    {
     "cell_type": "code",
     "collapsed": false,
     "input": [
      "road2 = STCA(r1,50,5,10,0)\n",
      "print road2"
     ],
     "language": "python",
     "metadata": {},
     "outputs": [
      {
       "output_type": "stream",
       "stream": "stdout",
       "text": [
        "[[22 27 33 35 10]\n",
        " [ 5  4  0  1  8]]\n"
       ]
      }
     ],
     "prompt_number": 121
    },
    {
     "cell_type": "code",
     "collapsed": false,
     "input": [
      "road3 = STCA(road2,50,5,10,0)\n",
      "print road3"
     ],
     "language": "python",
     "metadata": {},
     "outputs": [
      {
       "output_type": "stream",
       "stream": "stdout",
       "text": [
        "[[26 32 34 37 19]\n",
        " [ 4  5  1  2  9]]\n"
       ]
      }
     ],
     "prompt_number": 122
    },
    {
     "cell_type": "code",
     "collapsed": false,
     "input": [
      "road4 = STCA(road3,50,5,10,0.1)\n",
      "print road4"
     ],
     "language": "python",
     "metadata": {},
     "outputs": [
      {
       "output_type": "stream",
       "stream": "stdout",
       "text": [
        "[[32 35 38 44 32]\n",
        " [ 1  2  2  4  3]]\n"
       ]
      }
     ],
     "prompt_number": 124
    },
    {
     "cell_type": "markdown",
     "metadata": {},
     "source": [
      "STCA works fine"
     ]
    },
    {
     "cell_type": "markdown",
     "metadata": {},
     "source": [
      "ASEP Algorithm\n",
      "="
     ]
    },
    {
     "cell_type": "code",
     "collapsed": false,
     "input": [
      "\n",
      "def ASEP(road,l,n):\n",
      "    \"\"\"Returns positions and velocities of \"n\" cars on road w/length \"l\", according to ASEP rulset.\"\"\"\n",
      "    g = np.zeros(n)\n",
      "    street = range(n)\n",
      "    random.shuffle(street)   \n",
      "    for i in range(len(s)):\n",
      "        k = street[i]\n",
      "        if i<(c-1): #calculates g for all positions but last one in array\n",
      "            if road[0][i+1]>road[0][i]: #g if  car is not last one on road\n",
      "                g = road[0][i+1]-road[0][i]-1\n",
      "            else: #g if car is last one on road\n",
      "                g = (L-road[0][i])+(road[0][i+1]-1)\n",
      "        else: #calculates g for last position element in array\n",
      "            if road[0][1]>road[0][i]:\n",
      "                g = array[0][1]-array[0][i]-1\n",
      "            else:\n",
      "                g = (L-array[0][i])+(array[0][1]-1)\n",
      "        if g==0: #new v determined by following rules\n",
      "            array[1][i]=0\n",
      "        elif g>array[1][i] and array[1][i]<v_max:\n",
      "            array[1][i]=array[1][i]+1\n",
      "        elif g<array[1][i]:\n",
      "            array[1][i]=g\n",
      "        #Moves car forward by velocity\n",
      "        if array[0][i]+array[1][i]<=L: #if car is not looping around\n",
      "            array[0][i]=array[0][i]+array[1][i]\n",
      "        else: #if car is last on road and loops around\n",
      "            array[0][i]=array[1][i]-(L-array[0][i])\n",
      "    \n",
      "    return array\n",
      "                \n",
      "          \n",
      "    print  v\n",
      "    return x"
     ],
     "language": "python",
     "metadata": {},
     "outputs": [],
     "prompt_number": 98
    },
    {
     "cell_type": "code",
     "collapsed": false,
     "input": [
      "\n",
      "\n",
      "print x1\n",
      "\n",
      "print ASEP(x1,60,5)"
     ],
     "language": "python",
     "metadata": {},
     "outputs": [
      {
       "output_type": "stream",
       "stream": "stdout",
       "text": [
        "[ 18.  26.  28.  34.  36.]\n",
        "[ 1.  3.  6.  2.  4.]\n",
        "[ 19.  32.  34.  37.  46.]\n"
       ]
      }
     ],
     "prompt_number": 49
    },
    {
     "cell_type": "code",
     "collapsed": false,
     "input": [],
     "language": "python",
     "metadata": {},
     "outputs": [],
     "prompt_number": 38
    },
    {
     "cell_type": "code",
     "collapsed": false,
     "input": [],
     "language": "python",
     "metadata": {},
     "outputs": []
    }
   ],
   "metadata": {}
  }
 ]
}